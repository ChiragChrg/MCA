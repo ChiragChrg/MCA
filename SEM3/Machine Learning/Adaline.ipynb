{
 "cells": [
  {
   "cell_type": "code",
   "execution_count": 6,
   "id": "54f63437-1dfa-40e6-8e7e-ffecc8d52338",
   "metadata": {},
   "outputs": [
    {
     "name": "stdout",
     "output_type": "stream",
     "text": [
      "epoch 1\n",
      "\n",
      "X1 \tX2 \tT \tyin \tresult \tw1 \tw2 \tb \tError\n",
      "1\t1\t-1\t0.6\t-1.6\t-0.12\t-0.12\t-0.12\t2.56\n",
      "1\t-1\t1\t-0.12\t1.12\t0.104\t-0.344\t0.104\t1.254\n",
      "-1\t1\t-1\t-0.344\t-0.656\t0.235\t-0.475\t-0.027\t0.43\n",
      "-1\t-1\t-1\t0.213\t-1.213\t0.478\t-0.233\t-0.27\t1.471\n",
      "\n",
      "epoch 2\n",
      "\n",
      "X1 \tX2 \tT \tyin \tresult \tw1 \tw2 \tb \tError\n",
      "1\t1\t-1\t-0.025\t-0.975\t0.283\t-0.428\t-0.465\t0.951\n",
      "1\t-1\t1\t0.246\t0.754\t0.434\t-0.579\t-0.314\t0.569\n",
      "-1\t1\t-1\t-1.326\t0.326\t0.368\t-0.513\t-0.249\t0.106\n",
      "-1\t-1\t-1\t-0.104\t-0.896\t0.548\t-0.334\t-0.428\t0.803\n",
      "\n",
      "epoch 3\n",
      "\n",
      "X1 \tX2 \tT \tyin \tresult \tw1 \tw2 \tb \tError\n",
      "1\t1\t-1\t-0.214\t-0.786\t0.391\t-0.491\t-0.585\t0.617\n",
      "1\t-1\t1\t0.297\t0.703\t0.531\t-0.632\t-0.444\t0.495\n",
      "-1\t1\t-1\t-1.607\t0.607\t0.41\t-0.51\t-0.323\t0.369\n",
      "-1\t-1\t-1\t-0.222\t-0.778\t0.565\t-0.355\t-0.478\t0.605\n",
      "\n",
      "epoch 4\n",
      "\n",
      "X1 \tX2 \tT \tyin \tresult \tw1 \tw2 \tb \tError\n",
      "1\t1\t-1\t-0.268\t-0.732\t0.419\t-0.501\t-0.625\t0.536\n",
      "1\t-1\t1\t0.295\t0.705\t0.56\t-0.642\t-0.484\t0.497\n",
      "-1\t1\t-1\t-1.686\t0.686\t0.423\t-0.505\t-0.347\t0.47\n",
      "-1\t-1\t-1\t-0.264\t-0.736\t0.57\t-0.358\t-0.494\t0.541\n",
      "\n",
      "epoch 5\n",
      "\n",
      "X1 \tX2 \tT \tyin \tresult \tw1 \tw2 \tb \tError\n",
      "1\t1\t-1\t-0.282\t-0.718\t0.426\t-0.501\t-0.637\t0.516\n",
      "1\t-1\t1\t0.29\t0.71\t0.568\t-0.643\t-0.495\t0.504\n",
      "-1\t1\t-1\t-1.707\t0.707\t0.427\t-0.502\t-0.354\t0.5\n",
      "-1\t-1\t-1\t-0.279\t-0.721\t0.571\t-0.358\t-0.498\t0.52\n",
      "\n"
     ]
    }
   ],
   "source": [
    "input=[(1,1),(1,-1),(-1,1),(-1,-1)]\n",
    "output=[-1,1,-1,-1]\n",
    "w1=w2=b=0.2\n",
    "alpha=0.2\n",
    "\n",
    "for epoch in range(1,6):\n",
    "    print(\"epoch\",epoch)\n",
    "    print()\n",
    "    print(\"X1 \\tX2 \\tT \\tyin \\tresult \\tw1 \\tw2 \\tb \\tError\") \n",
    "    \n",
    "    for (x1,x2),t in zip(input,output):\n",
    "        yi=b+x1*w1+x2*w2\n",
    "        result=t-yi\n",
    "        \n",
    "        if result!= 0:\n",
    "            w1+=alpha*result*x1\n",
    "            w2+=alpha*result*x2\n",
    "            b+=alpha*result\n",
    "            error=result*result\n",
    "        print(f\"{x1}\\t{x2}\\t{t}\\t{round(yi,3)}\\t{round(result,3)}\\t{round(w1,3)}\\t{round(w2,3)}\\t{round(b,3)}\\t{round(error,3)}\")\n",
    "    print()"
   ]
  },
  {
   "cell_type": "code",
   "execution_count": null,
   "id": "b93146aa-6ca3-478b-82e9-99611785f63e",
   "metadata": {},
   "outputs": [],
   "source": []
  }
 ],
 "metadata": {
  "kernelspec": {
   "display_name": "Python 3 (ipykernel)",
   "language": "python",
   "name": "python3"
  },
  "language_info": {
   "codemirror_mode": {
    "name": "ipython",
    "version": 3
   },
   "file_extension": ".py",
   "mimetype": "text/x-python",
   "name": "python",
   "nbconvert_exporter": "python",
   "pygments_lexer": "ipython3",
   "version": "3.12.2"
  }
 },
 "nbformat": 4,
 "nbformat_minor": 5
}
