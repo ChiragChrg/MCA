{
 "cells": [
  {
   "cell_type": "code",
   "execution_count": 3,
   "id": "1171a454-895e-4839-a352-d4a3076086a3",
   "metadata": {},
   "outputs": [
    {
     "name": "stdout",
     "output_type": "stream",
     "text": [
      "X:[0, 0, 1, 1]\n",
      "Weights:[[0.1, 0.2, 0.8, 0.9], [0.9, 0.7, 0.5, 0.3]]\n",
      "X:[1, 0, 0, 0]\n",
      "Weights:[[0.1, 0.2, 0.8, 0.9], [0.95, 0.35, 0.25, 0.15]]\n",
      "X:[0, 1, 1, 0]\n",
      "Weights:[[0.05, 0.6, 0.9, 0.45], [0.95, 0.35, 0.25, 0.15]]\n",
      "X:[0, 0, 0, 1]\n",
      "Weights:[[0.025, 0.3, 0.45, 0.725], [0.95, 0.35, 0.25, 0.15]]\n"
     ]
    }
   ],
   "source": [
    "import numpy as np\n",
    "input_values=[[0,0,1,1],[1,0,0,0],[0,1,1,0],[0,0,0,1]]\n",
    "alpha=0.5\n",
    "weights=[[0.2,0.4,0.6,0.8],[0.9,0.7,0.5,0.3]]\n",
    "\n",
    "def winner(x_value,weights):\n",
    "    D0,D1=0,0\n",
    "    for i in range(4):\n",
    "        D0=D0+(x_value[i]-weights[0][i])**2\n",
    "        D1=D1+(x_value[i]-weights[1][i])**2\n",
    "\n",
    "    if D0<D1:\n",
    "        return 0\n",
    "    else:\n",
    "        return 1\n",
    "\n",
    "def ksof_update(weights,x_value,J,alpha):\n",
    "    for i in range(len(x_value)):\n",
    "        weights[J][i]=weights[J][i]+alpha*(x_value[i]-weights[J][i])\n",
    "    return weights\n",
    "\n",
    "for x_value in input_values:\n",
    "    J=winner(x_value,weights)\n",
    "    w_new=ksof_update(weights,x_value,J,alpha)\n",
    "    print(f\"X:{x_value}\")\n",
    "    print(f\"Weights:{np.round(w_new,3).tolist()}\");\n",
    "        "
   ]
  },
  {
   "cell_type": "code",
   "execution_count": null,
   "id": "5b753778-43a6-43f0-82e1-1105c9b933a8",
   "metadata": {},
   "outputs": [],
   "source": []
  }
 ],
 "metadata": {
  "kernelspec": {
   "display_name": "Python 3 (ipykernel)",
   "language": "python",
   "name": "python3"
  },
  "language_info": {
   "codemirror_mode": {
    "name": "ipython",
    "version": 3
   },
   "file_extension": ".py",
   "mimetype": "text/x-python",
   "name": "python",
   "nbconvert_exporter": "python",
   "pygments_lexer": "ipython3",
   "version": "3.12.2"
  }
 },
 "nbformat": 4,
 "nbformat_minor": 5
}
