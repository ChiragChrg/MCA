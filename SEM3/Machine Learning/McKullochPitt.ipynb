{
 "cells": [
  {
   "cell_type": "code",
   "execution_count": 5,
   "id": "f1138272-d12b-427a-a884-325543a7ba47",
   "metadata": {},
   "outputs": [
    {
     "name": "stdout",
     "output_type": "stream",
     "text": [
      "X1 \tX2 \tOutput\n",
      "1 \t 1 \t 1\n",
      "1 \t 0 \t 0\n",
      "0 \t 1 \t 0\n",
      "0 \t 0 \t 0\n",
      "\n",
      "X1 \tX2 \tOutput \t Y \tAlpha\n",
      "1 \t 1 \t 1 \t 2 \t 1\n",
      "1 \t 0 \t 0 \t 1 \t 0\n",
      "0 \t 1 \t 0 \t 1 \t 0\n",
      "0 \t 0 \t 0 \t 0 \t 0\n"
     ]
    }
   ],
   "source": [
    "x1=[1,1,0,0]\n",
    "x2=[1,0,1,0]\n",
    "\n",
    "output=[1,0,0,0]\n",
    "\n",
    "print (\"X1 \\tX2 \\tOutput\")\n",
    "for i in range(len(x1)):\n",
    "    print(x1[i],\"\\t\",x2[i],\"\\t\",output[i])\n",
    "print()\n",
    "print (\"X1 \\tX2 \\tOutput \\t Y \\tAlpha\")\n",
    "w1=w2=1\n",
    "T=2\n",
    "for i in range(4):\n",
    "    y=(x1[i]*w1)+(x2[i]*w2)\n",
    "\n",
    "    if y>=T:\n",
    "        a=1\n",
    "    else:\n",
    "        a=0\n",
    "    print(x1[i],\"\\t\",x2[i],\"\\t\",output[i],\"\\t\",y,\"\\t\",a)\n",
    "    "
   ]
  },
  {
   "cell_type": "code",
   "execution_count": null,
   "id": "0a66d105-2d97-4752-9550-8f87ead197dc",
   "metadata": {},
   "outputs": [],
   "source": []
  }
 ],
 "metadata": {
  "kernelspec": {
   "display_name": "Python 3 (ipykernel)",
   "language": "python",
   "name": "python3"
  },
  "language_info": {
   "codemirror_mode": {
    "name": "ipython",
    "version": 3
   },
   "file_extension": ".py",
   "mimetype": "text/x-python",
   "name": "python",
   "nbconvert_exporter": "python",
   "pygments_lexer": "ipython3",
   "version": "3.12.2"
  }
 },
 "nbformat": 4,
 "nbformat_minor": 5
}
