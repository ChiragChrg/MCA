{
 "cells": [
  {
   "cell_type": "code",
   "execution_count": 2,
   "id": "95cdb2a6-12e7-4b44-8b9f-4097a1f3125a",
   "metadata": {},
   "outputs": [
    {
     "name": "stdout",
     "output_type": "stream",
     "text": [
      "X1 \tX2 \tW1 \tW2 \tBias\n",
      "1 \t1 \t1 \t1 \t1\n",
      "1 \t-1 \t0 \t2 \t0\n",
      "-1 \t1 \t1 \t1 \t-1\n",
      "-1 \t-1 \t1 \t1 \t-1\n"
     ]
    }
   ],
   "source": [
    "inputs=[(1,1),(1,-1),(-1,1),(-1,-1)] #AND\n",
    "output=[1,-1,-1,-1]\n",
    "\n",
    "w1=w2=b=0\n",
    "alpha=1\n",
    "T=0\n",
    "\n",
    "print(\"X1 \\tX2 \\tW1 \\tW2 \\tBias\")\n",
    "for (x1,x2),y in zip(inputs,output):\n",
    "    net_input=b+x1*w1+x2*w2\n",
    "    \n",
    "    if net_input>T:\n",
    "        a=1\n",
    "    elif net_input<-T:\n",
    "        a=-1\n",
    "    else:\n",
    "        a=0\n",
    "        \n",
    "    if a!=y:\n",
    "        w1=w1+alpha*y*x1\n",
    "        w2=w2+alpha*y*x2\n",
    "        b=b+alpha*y\n",
    "\n",
    "    print(f\"{x1} \\t{x2} \\t{w1} \\t{w2} \\t{b}\")"
   ]
  }
 ],
 "metadata": {
  "kernelspec": {
   "display_name": "Python 3 (ipykernel)",
   "language": "python",
   "name": "python3"
  },
  "language_info": {
   "codemirror_mode": {
    "name": "ipython",
    "version": 3
   },
   "file_extension": ".py",
   "mimetype": "text/x-python",
   "name": "python",
   "nbconvert_exporter": "python",
   "pygments_lexer": "ipython3",
   "version": "3.12.2"
  }
 },
 "nbformat": 4,
 "nbformat_minor": 5
}
