{
 "cells": [
  {
   "cell_type": "code",
   "execution_count": 4,
   "id": "fe48fbca-c2e4-487f-829d-95106020f4b2",
   "metadata": {},
   "outputs": [
    {
     "name": "stdout",
     "output_type": "stream",
     "text": [
      "x1:1,x2:1,w1:1,w2:1,b:1\n",
      "x1:1,x2:-1,w1:2,w2:0,b:2\n",
      "x1:-1,x2:1,w1:1,w2:1,b:3\n",
      "x1:-1,x2:-1,w1:2,w2:2,b:2\n"
     ]
    }
   ],
   "source": [
    "inputs=[(1,1),(1,-1),(-1,1),(-1,-1)]\n",
    "output=[1,1,1,-1]\n",
    "\n",
    "def hebb(inputs,output):\n",
    "    w1=w2=0\n",
    "    b=0\n",
    "    for(x1,x2),y in zip(inputs,output):\n",
    "        w1+=x1*y\n",
    "        w2+=x2*y\n",
    "        b+=y\n",
    "        print(f\"x1:{x1},x2:{x2},w1:{w1},w2:{w2},b:{b}\")\n",
    "\n",
    "hebb(inputs,output)"
   ]
  },
  {
   "cell_type": "code",
   "execution_count": null,
   "id": "6f6ad674-eda5-4119-ba04-748a840776e3",
   "metadata": {},
   "outputs": [],
   "source": []
  }
 ],
 "metadata": {
  "kernelspec": {
   "display_name": "Python 3 (ipykernel)",
   "language": "python",
   "name": "python3"
  },
  "language_info": {
   "codemirror_mode": {
    "name": "ipython",
    "version": 3
   },
   "file_extension": ".py",
   "mimetype": "text/x-python",
   "name": "python",
   "nbconvert_exporter": "python",
   "pygments_lexer": "ipython3",
   "version": "3.12.2"
  }
 },
 "nbformat": 4,
 "nbformat_minor": 5
}
