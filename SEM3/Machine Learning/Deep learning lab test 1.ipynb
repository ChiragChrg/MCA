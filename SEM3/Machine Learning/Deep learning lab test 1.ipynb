{
 "cells": [
  {
   "cell_type": "markdown",
   "id": "b4cb4038-bff9-43c2-af5c-fb8e7bb1b608",
   "metadata": {},
   "source": [
    "# HEBB"
   ]
  },
  {
   "cell_type": "code",
   "execution_count": 2,
   "id": "466f38f9-cacc-43bc-90b6-5c3a8bcebe3e",
   "metadata": {},
   "outputs": [
    {
     "name": "stdout",
     "output_type": "stream",
     "text": [
      "X1:1 \tx2:1 \tw1:1 \tw2:1 \tb:1\n",
      "X1:1 \tx2:-1 \tw1:0 \tw2:2 \tb:0\n",
      "X1:-1 \tx2:1 \tw1:1 \tw2:1 \tb:-1\n",
      "X1:-1 \tx2:-1 \tw1:2 \tw2:2 \tb:-2\n"
     ]
    }
   ],
   "source": [
    "inputs=[(1,1),(1,-1),(-1,1),(-1,-1)] #AND GATE\n",
    "output=[1,-1,-1,-1]\n",
    "w1=w2=0\n",
    "b=0\n",
    "\n",
    "for (x1,x2),y in zip(inputs,output):\n",
    "    w1+=x1*y\n",
    "    w2+=x2*y\n",
    "    b+=y\n",
    "    print(f\"X1:{x1} \\tx2:{x2} \\tw1:{w1} \\tw2:{w2} \\tb:{b}\")"
   ]
  },
  {
   "cell_type": "code",
   "execution_count": null,
   "id": "255c02c4-56b3-4a3a-b30d-eb67e2373ad5",
   "metadata": {},
   "outputs": [],
   "source": []
  },
  {
   "cell_type": "markdown",
   "id": "f0d7b69b-a3aa-49d7-9a88-39d6c928b281",
   "metadata": {},
   "source": [
    "# Perceptron"
   ]
  },
  {
   "cell_type": "code",
   "execution_count": 13,
   "id": "24d27bb2-a132-4a0d-b5c9-2f6c7b527130",
   "metadata": {},
   "outputs": [
    {
     "name": "stdout",
     "output_type": "stream",
     "text": [
      "X1:1,x2:1,w1:1,w2:1,b:1\n",
      "X1:1,x2:-1,w1:0,w2:2,b:0\n",
      "X1:-1,x2:1,w1:1,w2:1,b:-1\n",
      "X1:-1,x2:-1,w1:1,w2:1,b:-1\n"
     ]
    }
   ],
   "source": [
    "inputs=[(1,1),(1,-1),(-1,1),(-1,-1)] #AND GATE\n",
    "output=[1,-1,-1,-1]\n",
    "w1=w2=b=0\n",
    "alpha=1\n",
    "T=0\n",
    "for (x1,x2),y in zip(inputs,output):\n",
    "    net_input=b+x1*w1+x2*w2\n",
    "    \n",
    "    if net_input>T:\n",
    "        a=1\n",
    "    elif net_input<-T:\n",
    "        a=-1\n",
    "    else:\n",
    "        a=0\n",
    "    if a!=y:\n",
    "        w1=w1+alpha*y*x1\n",
    "        w2=w2+alpha*y*x2\n",
    "        b=b+alpha*y\n",
    "\n",
    "    print(f\"X1:{x1},x2:{x2},w1:{w1},w2:{w2},b:{b}\")\n",
    "        \n",
    "        \n",
    "        \n",
    "        "
   ]
  },
  {
   "cell_type": "code",
   "execution_count": null,
   "id": "17783226-8ca2-4c7b-a986-cf9ead775657",
   "metadata": {},
   "outputs": [],
   "source": []
  },
  {
   "cell_type": "markdown",
   "id": "18921350-6738-4d23-b7ba-bf33cc61f41a",
   "metadata": {},
   "source": [
    "# MC Culoth Pitts"
   ]
  },
  {
   "cell_type": "code",
   "execution_count": 18,
   "id": "ea0bc39d-3c93-4357-ac02-0f40f373e185",
   "metadata": {},
   "outputs": [
    {
     "name": "stdout",
     "output_type": "stream",
     "text": [
      "X1:1,x2:1,Output:1\n",
      "X1:1,x2:-1,Output:-1\n",
      "X1:-1,x2:1,Output:-1\n",
      "X1:-1,x2:-1,Output:-1\n"
     ]
    }
   ],
   "source": [
    "inputs=[(1,1),(1,-1),(-1,1),(-1,-1)]\n",
    "w1=w2=1\n",
    "t=2\n",
    "for x1,x2 in inputs:\n",
    "    yin=x1*w1+x2*w2\n",
    "    if yin>=t:\n",
    "        op=1\n",
    "    else:\n",
    "        op=-1\n",
    "    print(f\"X1:{x1},x2:{x2},Output:{op}\")\n",
    "    "
   ]
  },
  {
   "cell_type": "code",
   "execution_count": null,
   "id": "051b43fc-386b-493e-ac14-696c7b0dc231",
   "metadata": {},
   "outputs": [],
   "source": []
  },
  {
   "cell_type": "markdown",
   "id": "0177a9f4-6433-4269-b2b9-c3382a4a3b4c",
   "metadata": {},
   "source": [
    "# Adaline"
   ]
  },
  {
   "cell_type": "code",
   "execution_count": 22,
   "id": "ef7ca20e-dd33-4631-aedb-7f16ae52e72b",
   "metadata": {},
   "outputs": [
    {
     "name": "stdout",
     "output_type": "stream",
     "text": [
      "X1:1,x2:1,y:-1,yin:0.6,res:-1.6,w1:-0.12,w2:-0.12,b:-0.12,error:2.56\n",
      "X1:1,x2:-1,y:1,yin:-0.12,res:1.12,w1:0.1,w2:-0.34,b:0.1,error:1.25\n",
      "X1:-1,x2:1,y:-1,yin:-0.34,res:-0.66,w1:0.24,w2:-0.48,b:-0.03,error:0.43\n",
      "X1:-1,x2:-1,y:-1,yin:0.21,res:-1.21,w1:0.48,w2:-0.23,b:-0.27,error:1.47\n"
     ]
    }
   ],
   "source": [
    "inputs=[(1,1),(1,-1),(-1,1),(-1,-1)] #AND NOT GATE\n",
    "output=[-1,1,-1,-1]\n",
    "w1=w2=b=0.2\n",
    "alpha=0.2\n",
    "\n",
    "for (x1,x2),y in zip(inputs,output):\n",
    "    yin=b+x1*w1+x2*w2\n",
    "    res=y-yin\n",
    "\n",
    "    if res!=0:\n",
    "        w1=w1+alpha*res*x1\n",
    "        w2=w2+alpha*res*x2\n",
    "        b=b+alpha*res\n",
    "        error=res*res\n",
    "    \n",
    "        \n",
    "\n",
    "    print(f\"X1:{x1},x2:{x2},y:{round(y,2)},yin:{round(yin,2)},res:{round(res,2)},w1:{round(w1,2)},w2:{round(w2,2)},b:{round(b,2)},error:{round(error,2)}\")\n",
    "        \n",
    "        \n",
    "        \n",
    "        "
   ]
  },
  {
   "cell_type": "code",
   "execution_count": null,
   "id": "3937e9e6-deb3-43dd-b972-ec198820e073",
   "metadata": {},
   "outputs": [],
   "source": []
  }
 ],
 "metadata": {
  "kernelspec": {
   "display_name": "Python 3 (ipykernel)",
   "language": "python",
   "name": "python3"
  },
  "language_info": {
   "codemirror_mode": {
    "name": "ipython",
    "version": 3
   },
   "file_extension": ".py",
   "mimetype": "text/x-python",
   "name": "python",
   "nbconvert_exporter": "python",
   "pygments_lexer": "ipython3",
   "version": "3.12.2"
  }
 },
 "nbformat": 4,
 "nbformat_minor": 5
}
