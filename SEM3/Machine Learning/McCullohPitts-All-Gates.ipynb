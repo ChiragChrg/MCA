{
 "cells": [
  {
   "cell_type": "markdown",
   "id": "6df04716-7d69-464f-a2f2-380f6d351413",
   "metadata": {},
   "source": [
    "# Mc Culloch Pitt's Neuron - AND"
   ]
  },
  {
   "cell_type": "code",
   "execution_count": 5,
   "id": "8f76ace4-cff1-4fc8-9a28-915a846c1cd5",
   "metadata": {},
   "outputs": [
    {
     "name": "stdout",
     "output_type": "stream",
     "text": [
      "X1 \tX2 \tTarget \tYin \tOutput\n",
      "1 \t1 \t1 \t2 \t1\n",
      "1 \t0 \t0 \t1 \t0\n",
      "0 \t1 \t0 \t1 \t0\n",
      "0 \t0 \t0 \t0 \t0\n"
     ]
    }
   ],
   "source": [
    "# Input Data\n",
    "x1 = [1,1,0,0]\n",
    "x2 = [1,0,1,0]\n",
    "target = [1,0,0,0]\n",
    "\n",
    "# Initialize Weights\n",
    "w1=w2=1\n",
    "T=2\n",
    "\n",
    "print(\"X1 \\tX2 \\tTarget \\tYin \\tOutput\")\n",
    "for i in range(4):\n",
    "    y = x1[i] * w1 + x2[i] * w2\n",
    "\n",
    "    if y >= T:\n",
    "        a = 1\n",
    "    else:\n",
    "        a = 0\n",
    "\n",
    "    print(f\"{x1[i]} \\t{x2[i]} \\t{target[i]} \\t{y} \\t{a}\")"
   ]
  },
  {
   "cell_type": "code",
   "execution_count": null,
   "id": "ba61b9ec-e6d2-4769-b247-2688687227d9",
   "metadata": {},
   "outputs": [],
   "source": []
  },
  {
   "cell_type": "markdown",
   "id": "35fffd59-fef8-43a5-88d6-9ed1e445d542",
   "metadata": {},
   "source": [
    "# Mc Culloch Pitt's Neuron - AND-NOT"
   ]
  },
  {
   "cell_type": "code",
   "execution_count": 7,
   "id": "e24d2794-5770-4e20-b91d-f371ada7f104",
   "metadata": {},
   "outputs": [
    {
     "name": "stdout",
     "output_type": "stream",
     "text": [
      "X1 \tX2 \tTarget \tYin \tOutput\n",
      "0 \t0 \t0 \t0 \t0\n",
      "0 \t1 \t0 \t-1 \t0\n",
      "1 \t0 \t1 \t1 \t1\n",
      "1 \t1 \t0 \t0 \t0\n"
     ]
    }
   ],
   "source": [
    "# Input Data\n",
    "x1 = [0,0,1,1]\n",
    "x2 = [0,1,0,1]\n",
    "target = [0,0,1,0]\n",
    "\n",
    "# Initialize Weights\n",
    "w1=1\n",
    "w2=-1 # Negative W2\n",
    "T=1\n",
    "\n",
    "print(\"X1 \\tX2 \\tTarget \\tYin \\tOutput\")\n",
    "for i in range(4):\n",
    "    y = x1[i] * w1 + x2[i] * w2\n",
    "\n",
    "    if y >= T:\n",
    "        a = 1\n",
    "    else:\n",
    "        a = 0\n",
    "\n",
    "    print(f\"{x1[i]} \\t{x2[i]} \\t{target[i]} \\t{y} \\t{a}\")"
   ]
  },
  {
   "cell_type": "code",
   "execution_count": null,
   "id": "9ef77aac-d471-4813-a35a-fa4251572f94",
   "metadata": {},
   "outputs": [],
   "source": []
  },
  {
   "cell_type": "markdown",
   "id": "38ff1f01-2aca-42e8-a0a0-3c5f1dbd93ac",
   "metadata": {},
   "source": [
    "# Mc Culloch Pitt's Neuron - OR"
   ]
  },
  {
   "cell_type": "code",
   "execution_count": 9,
   "id": "6841b088-45b7-4381-a728-c1d8533d15c6",
   "metadata": {},
   "outputs": [
    {
     "name": "stdout",
     "output_type": "stream",
     "text": [
      "X1 \tX2 \tTarget \tYin \tOutput\n",
      "0 \t0 \t0 \t0 \t0\n",
      "0 \t1 \t1 \t1 \t1\n",
      "1 \t0 \t1 \t1 \t1\n",
      "1 \t1 \t1 \t2 \t1\n"
     ]
    }
   ],
   "source": [
    "# Input Data\n",
    "x1 = [0,0,1,1]\n",
    "x2 = [0,1,0,1]\n",
    "target = [0,1,1,1]\n",
    "\n",
    "# Initialize Weights\n",
    "w1=w2=1\n",
    "T=1\n",
    "\n",
    "print(\"X1 \\tX2 \\tTarget \\tYin \\tOutput\")\n",
    "for i in range(4):\n",
    "    y = x1[i] * w1 + x2[i] * w2\n",
    "\n",
    "    if y >= T:\n",
    "        a = 1\n",
    "    else:\n",
    "        a = 0\n",
    "\n",
    "    print(f\"{x1[i]} \\t{x2[i]} \\t{target[i]} \\t{y} \\t{a}\")"
   ]
  },
  {
   "cell_type": "code",
   "execution_count": null,
   "id": "b1ae61c3-965a-4808-93f8-0f22dfd241d9",
   "metadata": {},
   "outputs": [],
   "source": []
  }
 ],
 "metadata": {
  "kernelspec": {
   "display_name": "Python 3 (ipykernel)",
   "language": "python",
   "name": "python3"
  },
  "language_info": {
   "codemirror_mode": {
    "name": "ipython",
    "version": 3
   },
   "file_extension": ".py",
   "mimetype": "text/x-python",
   "name": "python",
   "nbconvert_exporter": "python",
   "pygments_lexer": "ipython3",
   "version": "3.12.2"
  }
 },
 "nbformat": 4,
 "nbformat_minor": 5
}
